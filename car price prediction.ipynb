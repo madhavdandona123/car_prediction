# Import necessary libraries
import pandas as pd
import numpy as np
import matplotlib.pyplot as plt
import seaborn as sns
from sklearn.model_selection import train_test_split
from sklearn.ensemble import RandomForestRegressor
from sklearn.metrics import mean_absolute_error, mean_squared_error, r2_score

# Load the dataset
df = pd.read_csv('car data.csv')

# Drop unnecessary columns
df1 = df.drop(['Car_Name'], axis='columns')

# Feature Engineering
df1['Current_Year'] = 2020
df1['no_year'] = df1['Current_Year'] - df1['Year']
df1.drop(['Year', 'Current_Year'], axis=1, inplace=True)

# Convert categorical variables into dummy variables
df1 = pd.get_dummies(df1, drop_first=True)

# Split data into features and target
X = df1.drop('Selling_Price', axis=1)
y = df1['Selling_Price']

# Train-test split
X_train, X_test, y_train, y_test = train_test_split(X, y, test_size=0.2, random_state=42)

# Model training
model = RandomForestRegressor(n_estimators=100, random_state=42)
model.fit(X_train, y_train)

# Predictions
y_pred = model.predict(X_test)

# Evaluate model performance
mae = mean_absolute_error(y_test, y_pred)
mse = mean_squared_error(y_test, y_pred)
r2 = r2_score(y_test, y_pred)

print(f"Mean Absolute Error: {mae}")
print(f"Mean Squared Error: {mse}")
print(f"R2 Score: {r2}")

# Plot predictions vs actual values
plt.scatter(y_test, y_pred)
plt.xlabel("Actual Prices")
plt.ylabel("Predicted Prices")
plt.title("Actual vs Predicted Prices")
plt.show()
